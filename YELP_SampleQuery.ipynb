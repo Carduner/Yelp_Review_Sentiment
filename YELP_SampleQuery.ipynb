{
 "cells": [
  {
   "cell_type": "code",
   "execution_count": 1,
   "metadata": {},
   "outputs": [],
   "source": [
    "import pandas as pd\n",
    "import numpy as np\n",
    "import os"
   ]
  },
  {
   "cell_type": "code",
   "execution_count": 2,
   "metadata": {},
   "outputs": [],
   "source": [
    "os.chdir('C:\\\\YELP\\\\Round12')"
   ]
  },
  {
   "cell_type": "markdown",
   "metadata": {},
   "source": [
    "#### YELP Positive and Negative Review Sample Generation\n",
    "- created DB of Yelp Review data (see YELP_Review_DB.ipynb)\n",
    "- query DB of Yelp Reviews to get 50,000 negative ratings (1 star) and 50,000 positive ratings (5 star)"
   ]
  },
  {
   "cell_type": "code",
   "execution_count": 3,
   "metadata": {},
   "outputs": [],
   "source": [
    "import sqlite3"
   ]
  },
  {
   "cell_type": "code",
   "execution_count": 4,
   "metadata": {},
   "outputs": [],
   "source": [
    "conn = sqlite3.connect('reviews_database.db')"
   ]
  },
  {
   "cell_type": "code",
   "execution_count": 5,
   "metadata": {},
   "outputs": [],
   "source": [
    "c = conn.cursor()"
   ]
  },
  {
   "cell_type": "code",
   "execution_count": 6,
   "metadata": {},
   "outputs": [
    {
     "name": "stdout",
     "output_type": "stream",
     "text": [
      "[('table',)]\n"
     ]
    }
   ],
   "source": [
    "#verify name of table is 'table'\n",
    "c.execute(\"SELECT name FROM sqlite_master WHERE type='table';\")\n",
    "print(c.fetchall())"
   ]
  },
  {
   "cell_type": "code",
   "execution_count": 7,
   "metadata": {},
   "outputs": [
    {
     "name": "stdout",
     "output_type": "stream",
     "text": [
      "[(0, 'index', 'BIGINT', 0, None, 0), (1, 'business_id', 'TEXT', 0, None, 0), (2, 'cool', 'BIGINT', 0, None, 0), (3, 'date', 'DATETIME', 0, None, 0), (4, 'funny', 'BIGINT', 0, None, 0), (5, 'review_id', 'TEXT', 0, None, 0), (6, 'stars', 'BIGINT', 0, None, 0), (7, 'text', 'TEXT', 0, None, 0), (8, 'useful', 'BIGINT', 0, None, 0), (9, 'user_id', 'TEXT', 0, None, 0)]\n"
     ]
    }
   ],
   "source": [
    "#get columns names within table and data types\n",
    "c.execute(\"PRAGMA table_info('table');\")\n",
    "print(c.fetchall())"
   ]
  },
  {
   "cell_type": "code",
   "execution_count": 8,
   "metadata": {},
   "outputs": [],
   "source": [
    "#query review db\n",
    "reviews_5 = pd.read_sql_query(\"SELECT text, stars  FROM 'table' WHERE stars = 5 ORDER BY Random() LIMIT 50000;\", conn)\n",
    "reviews_1 = pd.read_sql_query(\"SELECT text, stars  FROM 'table' WHERE stars = 1 ORDER BY Random() LIMIT 50000;\", conn)"
   ]
  },
  {
   "cell_type": "code",
   "execution_count": 9,
   "metadata": {},
   "outputs": [],
   "source": [
    "reviews = reviews_1.append(reviews_5)"
   ]
  },
  {
   "cell_type": "code",
   "execution_count": 12,
   "metadata": {},
   "outputs": [
    {
     "data": {
      "text/plain": [
       "(100000, 2)"
      ]
     },
     "execution_count": 12,
     "metadata": {},
     "output_type": "execute_result"
    }
   ],
   "source": [
    "reviews.shape"
   ]
  },
  {
   "cell_type": "code",
   "execution_count": 13,
   "metadata": {},
   "outputs": [],
   "source": [
    "#write to csv file\n",
    "reviews.to_csv('reviews1_5.csv')"
   ]
  }
 ],
 "metadata": {
  "kernelspec": {
   "display_name": "Python 3",
   "language": "python",
   "name": "python3"
  },
  "language_info": {
   "codemirror_mode": {
    "name": "ipython",
    "version": 3
   },
   "file_extension": ".py",
   "mimetype": "text/x-python",
   "name": "python",
   "nbconvert_exporter": "python",
   "pygments_lexer": "ipython3",
   "version": "3.6.4"
  }
 },
 "nbformat": 4,
 "nbformat_minor": 2
}
